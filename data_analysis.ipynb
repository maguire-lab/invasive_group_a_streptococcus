{
 "cells": [
  {
   "cell_type": "code",
   "execution_count": 497,
   "id": "62180326",
   "metadata": {},
   "outputs": [],
   "source": [
    "import pandas as pd\n",
    "import seaborn as sns\n",
    "from pathlib import Path\n",
    "import itertools\n",
    "import matplotlib.pyplot as plt\n",
    "from Bio import SeqIO, Phylo"
   ]
  },
  {
   "cell_type": "markdown",
   "id": "12c43fe3",
   "metadata": {},
   "source": [
    "# Collate Data from Bactopia and Poppunk Analyses"
   ]
  },
  {
   "cell_type": "code",
   "execution_count": 498,
   "id": "e57c7633",
   "metadata": {},
   "outputs": [],
   "source": [
    "sample_sheet = pd.read_csv('bactopia_sample_sheet.csv', sep='\\t')\n",
    "metadata = pd.read_csv('gas_metadata.csv', sep='\\t').set_index(\"GAS Isolate\")"
   ]
  },
  {
   "cell_type": "code",
   "execution_count": 499,
   "id": "6244bb09",
   "metadata": {},
   "outputs": [
    {
     "name": "stderr",
     "output_type": "stream",
     "text": [
      "/tmp/ipykernel_1151858/1434712552.py:5: FutureWarning: The default value of regex will change from True to False in a future version.\n",
      "  mlst['Sample'] = mlst['Sample'].str.replace('.fna.gz', '')\n",
      "/tmp/ipykernel_1151858/1434712552.py:10: FutureWarning: The default value of regex will change from True to False in a future version.\n",
      "  emmtyper['Sample'] = emmtyper['Sample'].str.replace('.tmp', '')\n",
      "/tmp/ipykernel_1151858/1434712552.py:14: FutureWarning: The default value of regex will change from True to False in a future version.\n",
      "  snptyper['Sample'] = snptyper['sample'].str.replace('.fna', '')\n"
     ]
    }
   ],
   "source": [
    "# Parse general tool outputs\n",
    "\n",
    "mlst = pd.concat([pd.read_csv(mlst_res, sep='\\t', names=['Sample', 'Scheme', \"MLST\", \"Allele1\", \"Allele2\", \"Allele3\", \"Allele4\", \"Allele5\", \"Allele6\", \"Allele7\"]) \\\n",
    "                  for mlst_res in Path(\"bactopia\").glob('*/tools/mlst/*.tsv')])\n",
    "mlst['Sample'] = mlst['Sample'].str.replace('.fna.gz', '')\n",
    "mlst = mlst.set_index(\"Sample\")\n",
    "\n",
    "emmtyper = pd.concat([pd.read_csv(emm_res, sep='\\t', names=['Sample', 'Number of Clusters', 'Predicted emm-type', 'Possible emm-like alleles', 'EMM cluster']) \\\n",
    "                      for emm_res in Path(\"bactopia\").glob('*/tools/emmtyper/*.tsv')])\n",
    "emmtyper['Sample'] = emmtyper['Sample'].str.replace('.tmp', '')\n",
    "emmtyper = emmtyper.set_index(\"Sample\")\n",
    "\n",
    "snptyper = pd.read_csv('assembly_snptyper/output.txt', sep='\\t')\n",
    "snptyper['Sample'] = snptyper['sample'].str.replace('.fna', '')\n",
    "snptyper = snptyper.drop('sample', axis=1).set_index(\"Sample\")\n",
    "\n",
    "poppunk = pd.read_csv('poppunk/output/output_clusters.csv').set_index('Taxon')"
   ]
  },
  {
   "cell_type": "code",
   "execution_count": 500,
   "id": "42a1fefe",
   "metadata": {},
   "outputs": [],
   "source": [
    "# Parse virulence factor analysis outputs\n",
    "virulence = pd.concat([pd.read_excel('virulence_adhesion_factors/Group A Strep Virulence Factor List for WGS.xlsx'), \n",
    "                       pd.read_excel('virulence_adhesion_factors/Additional GAS genes.xlsx')])\n",
    "\n",
    "all_vfs = virulence['Gene Name'].unique()\n",
    "all_ids = metadata.index\n",
    "with open('virulence_adhesion_factors/virulence_factors.fas', 'w') as fh:\n",
    "    for _, row in virulence[['Gene Name', 'DNA Sequence']].iterrows():\n",
    "        fh.write(f\">{row['Gene Name']}\\n{row['DNA Sequence']}\\n\")\n",
    "\n",
    "vf_hits = []\n",
    "for out6 in Path('virulence_adhesion_factors/vf_hits/').glob('*.out6'):\n",
    "    genome = out6.name.replace('.out6', '')\n",
    "    out6 = pd.read_csv(out6, names=\"qaccver saccver pident length mismatch gapopen qstart qend sstart send evalue bitscore qcovs qcovhsp qcovus\".split(), sep='\\t')\n",
    "    out6['GAS Isolate'] = genome\n",
    "    vf_hits.append(out6)\n",
    "vf_hits = pd.concat(vf_hits)\n",
    "vf_hits = vf_hits[(vf_hits['pident'] > 80) & (vf_hits['qcovus'] > 80)]\n",
    "vf_hits_presence_absence_matrix = pd.crosstab(vf_hits['GAS Isolate'], vf_hits['saccver'])\n",
    "vf_hits_presence_absence_matrix[vf_hits_presence_absence_matrix > 1] = 1"
   ]
  },
  {
   "cell_type": "code",
   "execution_count": 501,
   "id": "18f9c0fe",
   "metadata": {},
   "outputs": [],
   "source": [
    "# Parse CovRS deletions\n",
    "\n",
    "CovR_del = set()\n",
    "CovS_del = set()\n",
    "\n",
    "with open('virulence_adhesion_factors/covR_covS_alignment/covR_aligned.fas') as fh:\n",
    "    for seq in SeqIO.parse(fh, 'fasta'):\n",
    "        if seq.seq.startswith('---') or seq.seq.endswith('---'):\n",
    "            CovR_del.add(seq.id.rsplit('_', 1)[0])\n",
    "\n",
    "\n",
    "with open('virulence_adhesion_factors/covR_covS_alignment/covS_aligned.fas') as fh:\n",
    "    for seq in SeqIO.parse(fh, 'fasta'):\n",
    "        if seq.seq.startswith('---') or seq.seq.endswith('---'):\n",
    "            CovS_del.add(seq.id.rsplit('_', 1)[0])\n",
    "         \n",
    "covRS_deletions = pd.DataFrame(index=metadata.index)\n",
    "covRS_deletions['CovR Deletion'] = [1 if x in CovR_del else 0 for x in covRS_deletions.index]\n",
    "covRS_deletions['CovS Deletion'] = [1 if x in CovS_del else 0 for x in covRS_deletions.index]"
   ]
  },
  {
   "cell_type": "code",
   "execution_count": 502,
   "id": "b4cc0ed4",
   "metadata": {},
   "outputs": [],
   "source": [
    "# Combine metadata and results into 1 dataframe\n",
    "\n",
    "metadata['emm-type'] = emmtyper['Predicted emm-type']\n",
    "metadata['emm-group'] = metadata['emm-type'].str.split('.').str.get(0)\n",
    "metadata['MLST'] = mlst['MLST']\n",
    "metadata['Poppunk Cluster'] = poppunk['Cluster']\n",
    "metadata['M1UK SNPs Detected (X/27)'] = snptyper['matching_variants']\n",
    "metadata['CovR Deletion'] = covRS_deletions['CovR Deletion']\n",
    "metadata['CovS Deletion'] = covRS_deletions['CovS Deletion']\n",
    "metadata = pd.concat([metadata, vf_hits_presence_absence_matrix], axis=1)\n",
    "metadata.to_csv('gas_metadata_and_analysis_results.csv', sep='\\t')\n",
    "\n",
    "# perform emm12 only core genome phylogeny\n",
    "with open('pangenome/emm12_taxa.txt', 'w') as fh:\n",
    "    for x in metadata[metadata['emm-group'] == 'EMM12'].index:\n",
    "        fh.write(x + '\\n')"
   ]
  },
  {
   "cell_type": "markdown",
   "id": "9f2b5ece",
   "metadata": {},
   "source": [
    "## Query metadata for clusters\n"
   ]
  },
  {
   "cell_type": "code",
   "execution_count": 559,
   "id": "49aef92d",
   "metadata": {},
   "outputs": [
    {
     "data": {
      "text/plain": [
       "1     10.869565\n",
       "3     12.500000\n",
       "8     16.666667\n",
       "6     41.666667\n",
       "4    100.000000\n",
       "Name: 0, dtype: float64"
      ]
     },
     "execution_count": 559,
     "metadata": {},
     "output_type": "execute_result"
    }
   ],
   "source": [
    "ge_3_clusters = metadata[metadata['Poppunk Cluster'].isin(['1', '2', '16', '10', '4'])].groupby('Poppunk Cluster')\n",
    "ge_3_cluster_sizes = ge_3_clusters.size()\n",
    "perc_invasive = ge_3_clusters['Location'].value_counts() / ge_3_cluster_sizes * 100\n",
    "perc_invasive.reset_index().query(\"`Location` == 'Invasive'\")[0].sort_values()"
   ]
  },
  {
   "cell_type": "code",
   "execution_count": 454,
   "id": "87e5e25d",
   "metadata": {},
   "outputs": [
    {
     "data": {
      "text/plain": [
       "Poppunk Cluster  Location    \n",
       "1                Non-Invasive    82\n",
       "                 Invasive        10\n",
       "10               Non-Invasive     7\n",
       "                 Invasive         1\n",
       "11               Non-Invasive     2\n",
       "                 Invasive         1\n",
       "127              Invasive         1\n",
       "15               Non-Invasive     1\n",
       "159              Invasive         1\n",
       "16               Invasive         9\n",
       "17               Non-Invasive     2\n",
       "2                Non-Invasive     7\n",
       "                 Invasive         5\n",
       "24               Invasive         2\n",
       "27               Invasive         2\n",
       "31               Non-Invasive     1\n",
       "32               Non-Invasive     1\n",
       "33               Non-Invasive     2\n",
       "                 Invasive         1\n",
       "37               Invasive         1\n",
       "4                Non-Invasive     5\n",
       "                 Invasive         1\n",
       "44               Non-Invasive     1\n",
       "45               Non-Invasive     3\n",
       "5                Non-Invasive     1\n",
       "6                Non-Invasive     1\n",
       "7                Invasive         1\n",
       "                 Non-Invasive     1\n",
       "8                Invasive         1\n",
       "88_207           Invasive         1\n",
       "Name: Location, dtype: int64"
      ]
     },
     "execution_count": 454,
     "metadata": {},
     "output_type": "execute_result"
    }
   ],
   "source": [
    "metadata.groupby('Poppunk Cluster')['Location'].value_counts()"
   ]
  },
  {
   "cell_type": "code",
   "execution_count": 416,
   "id": "a6ba12ce",
   "metadata": {},
   "outputs": [],
   "source": [
    "def percentage_of_group_invasive(metadata, cluster):\n",
    "    group = metadata.groupby('Location')[cluster].value_counts().reset_index(level=0)\n",
    "    group['Total in Cluster'] = metadata[cluster].value_counts()\n",
    "    group[cluster + \" %\"] = group[cluster] / group['Total in Cluster'] * 100\n",
    "    return group.sort_values(['Location', cluster + \" %\"], ascending=[True, False])"
   ]
  },
  {
   "cell_type": "code",
   "execution_count": 417,
   "id": "d059b6c1",
   "metadata": {},
   "outputs": [
    {
     "data": {
      "text/html": [
       "<div>\n",
       "<style scoped>\n",
       "    .dataframe tbody tr th:only-of-type {\n",
       "        vertical-align: middle;\n",
       "    }\n",
       "\n",
       "    .dataframe tbody tr th {\n",
       "        vertical-align: top;\n",
       "    }\n",
       "\n",
       "    .dataframe thead th {\n",
       "        text-align: right;\n",
       "    }\n",
       "</style>\n",
       "<table border=\"1\" class=\"dataframe\">\n",
       "  <thead>\n",
       "    <tr style=\"text-align: right;\">\n",
       "      <th></th>\n",
       "      <th>Location</th>\n",
       "      <th>emm-group</th>\n",
       "      <th>Total in Cluster</th>\n",
       "      <th>emm-group %</th>\n",
       "    </tr>\n",
       "    <tr>\n",
       "      <th>emm-group</th>\n",
       "      <th></th>\n",
       "      <th></th>\n",
       "      <th></th>\n",
       "      <th></th>\n",
       "    </tr>\n",
       "  </thead>\n",
       "  <tbody>\n",
       "    <tr>\n",
       "      <th>EMM49</th>\n",
       "      <td>Invasive</td>\n",
       "      <td>9</td>\n",
       "      <td>9</td>\n",
       "      <td>100.000000</td>\n",
       "    </tr>\n",
       "    <tr>\n",
       "      <th>EMM83</th>\n",
       "      <td>Invasive</td>\n",
       "      <td>2</td>\n",
       "      <td>2</td>\n",
       "      <td>100.000000</td>\n",
       "    </tr>\n",
       "    <tr>\n",
       "      <th>EMM25</th>\n",
       "      <td>Invasive</td>\n",
       "      <td>1</td>\n",
       "      <td>1</td>\n",
       "      <td>100.000000</td>\n",
       "    </tr>\n",
       "    <tr>\n",
       "      <th>EMM53</th>\n",
       "      <td>Invasive</td>\n",
       "      <td>1</td>\n",
       "      <td>1</td>\n",
       "      <td>100.000000</td>\n",
       "    </tr>\n",
       "    <tr>\n",
       "      <th>EMM6</th>\n",
       "      <td>Invasive</td>\n",
       "      <td>1</td>\n",
       "      <td>1</td>\n",
       "      <td>100.000000</td>\n",
       "    </tr>\n",
       "    <tr>\n",
       "      <th>EMM66</th>\n",
       "      <td>Invasive</td>\n",
       "      <td>1</td>\n",
       "      <td>1</td>\n",
       "      <td>100.000000</td>\n",
       "    </tr>\n",
       "    <tr>\n",
       "      <th>EMM80</th>\n",
       "      <td>Invasive</td>\n",
       "      <td>1</td>\n",
       "      <td>1</td>\n",
       "      <td>100.000000</td>\n",
       "    </tr>\n",
       "    <tr>\n",
       "      <th>EMM92</th>\n",
       "      <td>Invasive</td>\n",
       "      <td>1</td>\n",
       "      <td>1</td>\n",
       "      <td>100.000000</td>\n",
       "    </tr>\n",
       "    <tr>\n",
       "      <th>EMM77</th>\n",
       "      <td>Invasive</td>\n",
       "      <td>1</td>\n",
       "      <td>2</td>\n",
       "      <td>50.000000</td>\n",
       "    </tr>\n",
       "    <tr>\n",
       "      <th>EMM82</th>\n",
       "      <td>Invasive</td>\n",
       "      <td>1</td>\n",
       "      <td>2</td>\n",
       "      <td>50.000000</td>\n",
       "    </tr>\n",
       "    <tr>\n",
       "      <th>EMM1</th>\n",
       "      <td>Invasive</td>\n",
       "      <td>5</td>\n",
       "      <td>12</td>\n",
       "      <td>41.666667</td>\n",
       "    </tr>\n",
       "    <tr>\n",
       "      <th>EMM22</th>\n",
       "      <td>Invasive</td>\n",
       "      <td>1</td>\n",
       "      <td>3</td>\n",
       "      <td>33.333333</td>\n",
       "    </tr>\n",
       "    <tr>\n",
       "      <th>EMM81</th>\n",
       "      <td>Invasive</td>\n",
       "      <td>1</td>\n",
       "      <td>3</td>\n",
       "      <td>33.333333</td>\n",
       "    </tr>\n",
       "    <tr>\n",
       "      <th>EMM89</th>\n",
       "      <td>Invasive</td>\n",
       "      <td>1</td>\n",
       "      <td>6</td>\n",
       "      <td>16.666667</td>\n",
       "    </tr>\n",
       "    <tr>\n",
       "      <th>EMM28</th>\n",
       "      <td>Invasive</td>\n",
       "      <td>1</td>\n",
       "      <td>8</td>\n",
       "      <td>12.500000</td>\n",
       "    </tr>\n",
       "    <tr>\n",
       "      <th>EMM12</th>\n",
       "      <td>Invasive</td>\n",
       "      <td>10</td>\n",
       "      <td>92</td>\n",
       "      <td>10.869565</td>\n",
       "    </tr>\n",
       "    <tr>\n",
       "      <th>EMM2</th>\n",
       "      <td>Non-Invasive</td>\n",
       "      <td>3</td>\n",
       "      <td>3</td>\n",
       "      <td>100.000000</td>\n",
       "    </tr>\n",
       "    <tr>\n",
       "      <th>EMM58</th>\n",
       "      <td>Non-Invasive</td>\n",
       "      <td>2</td>\n",
       "      <td>2</td>\n",
       "      <td>100.000000</td>\n",
       "    </tr>\n",
       "    <tr>\n",
       "      <th>EMM11</th>\n",
       "      <td>Non-Invasive</td>\n",
       "      <td>1</td>\n",
       "      <td>1</td>\n",
       "      <td>100.000000</td>\n",
       "    </tr>\n",
       "    <tr>\n",
       "      <th>EMM4</th>\n",
       "      <td>Non-Invasive</td>\n",
       "      <td>1</td>\n",
       "      <td>1</td>\n",
       "      <td>100.000000</td>\n",
       "    </tr>\n",
       "    <tr>\n",
       "      <th>EMM75</th>\n",
       "      <td>Non-Invasive</td>\n",
       "      <td>1</td>\n",
       "      <td>1</td>\n",
       "      <td>100.000000</td>\n",
       "    </tr>\n",
       "    <tr>\n",
       "      <th>EMM87</th>\n",
       "      <td>Non-Invasive</td>\n",
       "      <td>1</td>\n",
       "      <td>1</td>\n",
       "      <td>100.000000</td>\n",
       "    </tr>\n",
       "    <tr>\n",
       "      <th>EMM9</th>\n",
       "      <td>Non-Invasive</td>\n",
       "      <td>1</td>\n",
       "      <td>1</td>\n",
       "      <td>100.000000</td>\n",
       "    </tr>\n",
       "    <tr>\n",
       "      <th>EMM12</th>\n",
       "      <td>Non-Invasive</td>\n",
       "      <td>82</td>\n",
       "      <td>92</td>\n",
       "      <td>89.130435</td>\n",
       "    </tr>\n",
       "    <tr>\n",
       "      <th>EMM28</th>\n",
       "      <td>Non-Invasive</td>\n",
       "      <td>7</td>\n",
       "      <td>8</td>\n",
       "      <td>87.500000</td>\n",
       "    </tr>\n",
       "    <tr>\n",
       "      <th>EMM89</th>\n",
       "      <td>Non-Invasive</td>\n",
       "      <td>5</td>\n",
       "      <td>6</td>\n",
       "      <td>83.333333</td>\n",
       "    </tr>\n",
       "    <tr>\n",
       "      <th>EMM22</th>\n",
       "      <td>Non-Invasive</td>\n",
       "      <td>2</td>\n",
       "      <td>3</td>\n",
       "      <td>66.666667</td>\n",
       "    </tr>\n",
       "    <tr>\n",
       "      <th>EMM81</th>\n",
       "      <td>Non-Invasive</td>\n",
       "      <td>2</td>\n",
       "      <td>3</td>\n",
       "      <td>66.666667</td>\n",
       "    </tr>\n",
       "    <tr>\n",
       "      <th>EMM1</th>\n",
       "      <td>Non-Invasive</td>\n",
       "      <td>7</td>\n",
       "      <td>12</td>\n",
       "      <td>58.333333</td>\n",
       "    </tr>\n",
       "    <tr>\n",
       "      <th>EMM77</th>\n",
       "      <td>Non-Invasive</td>\n",
       "      <td>1</td>\n",
       "      <td>2</td>\n",
       "      <td>50.000000</td>\n",
       "    </tr>\n",
       "    <tr>\n",
       "      <th>EMM82</th>\n",
       "      <td>Non-Invasive</td>\n",
       "      <td>1</td>\n",
       "      <td>2</td>\n",
       "      <td>50.000000</td>\n",
       "    </tr>\n",
       "  </tbody>\n",
       "</table>\n",
       "</div>"
      ],
      "text/plain": [
       "               Location  emm-group  Total in Cluster  emm-group %\n",
       "emm-group                                                        \n",
       "EMM49          Invasive          9                 9   100.000000\n",
       "EMM83          Invasive          2                 2   100.000000\n",
       "EMM25          Invasive          1                 1   100.000000\n",
       "EMM53          Invasive          1                 1   100.000000\n",
       "EMM6           Invasive          1                 1   100.000000\n",
       "EMM66          Invasive          1                 1   100.000000\n",
       "EMM80          Invasive          1                 1   100.000000\n",
       "EMM92          Invasive          1                 1   100.000000\n",
       "EMM77          Invasive          1                 2    50.000000\n",
       "EMM82          Invasive          1                 2    50.000000\n",
       "EMM1           Invasive          5                12    41.666667\n",
       "EMM22          Invasive          1                 3    33.333333\n",
       "EMM81          Invasive          1                 3    33.333333\n",
       "EMM89          Invasive          1                 6    16.666667\n",
       "EMM28          Invasive          1                 8    12.500000\n",
       "EMM12          Invasive         10                92    10.869565\n",
       "EMM2       Non-Invasive          3                 3   100.000000\n",
       "EMM58      Non-Invasive          2                 2   100.000000\n",
       "EMM11      Non-Invasive          1                 1   100.000000\n",
       "EMM4       Non-Invasive          1                 1   100.000000\n",
       "EMM75      Non-Invasive          1                 1   100.000000\n",
       "EMM87      Non-Invasive          1                 1   100.000000\n",
       "EMM9       Non-Invasive          1                 1   100.000000\n",
       "EMM12      Non-Invasive         82                92    89.130435\n",
       "EMM28      Non-Invasive          7                 8    87.500000\n",
       "EMM89      Non-Invasive          5                 6    83.333333\n",
       "EMM22      Non-Invasive          2                 3    66.666667\n",
       "EMM81      Non-Invasive          2                 3    66.666667\n",
       "EMM1       Non-Invasive          7                12    58.333333\n",
       "EMM77      Non-Invasive          1                 2    50.000000\n",
       "EMM82      Non-Invasive          1                 2    50.000000"
      ]
     },
     "execution_count": 417,
     "metadata": {},
     "output_type": "execute_result"
    }
   ],
   "source": [
    "percentage_of_group_invasive(metadata, 'emm-group')"
   ]
  },
  {
   "cell_type": "markdown",
   "id": "81f94f55",
   "metadata": {},
   "source": [
    "## Pyseer Analyses\n",
    "\n",
    "4 pyseer analyses were performed:\n",
    "- gene presence and absence associated with invasiveness `pyseer/gene_presence_absence/output/gene_presence_absence_patterns_filtered.txt`\n",
    "- gene cluster presence and absence associated with invasiveness `pyseer/gene_presence_absence/output/struct_presence_absence_patterns_filtered.txt`\n",
    "- unitig presence and absence associated with invasiveness `pyseer/unitigs/unitig_results_filtered.txt`\n",
    "- unitig presence and absence associated with invasiveness and controlled for by lineage `pyseer/unitigs/lineage_unitig_results_filtered.txt`\n",
    " "
   ]
  },
  {
   "cell_type": "code",
   "execution_count": 561,
   "id": "99123d11",
   "metadata": {},
   "outputs": [
    {
     "name": "stdout",
     "output_type": "stream",
     "text": [
      "Gene               group_2020  Location emm-type Poppunk Cluster\n",
      "23SG_024M0143_S4            1  Invasive  EMM12.7               1\n",
      "23SH_077M0027_S17           1  Invasive   EMM6.4               8\n",
      "23SH_103M0533_S19           1  Invasive  EMM12.7               1\n",
      "23SH_113M0067_S13           1  Invasive  EMM80.0             159\n",
      "group_2020  Location    \n",
      "0           Non-Invasive    117\n",
      "            Invasive         34\n",
      "1           Invasive          4\n",
      "Name: Location, dtype: int64\n"
     ]
    }
   ],
   "source": [
    "pangenome = pd.read_csv('pangenome/bactopia-runs/SHL_igas-20240616-024658/panaroo/gene_presence_absence.csv')\n",
    "\n",
    "gene_pres_abs = pd.read_csv('pyseer/gene_presence_absence/gene_presence_absence_patterns_filtered.txt', sep='\\t')\n",
    "gene_pres_abs = pangenome[pangenome['Gene'].isin(gene_pres_abs['variant'])]\n",
    "gene_pres_abs = gene_pres_abs.drop(['Non-unique Gene name', 'Annotation'], axis=1).set_index('Gene').T\n",
    "gene_pres_abs = gene_pres_abs.notnull().astype('int')\n",
    "gene_pres_abs = gene_pres_abs.fillna(0)\n",
    "gene_pres_abs['Location'] = metadata.loc[gene_pres_abs.index, 'Location']\n",
    "gene_pres_abs['emm-type'] = metadata.loc[gene_pres_abs.index, 'emm-type']\n",
    "gene_pres_abs['Poppunk Cluster'] = metadata.loc[gene_pres_abs.index, 'Poppunk Cluster']\n",
    "\n",
    "print(gene_pres_abs[gene_pres_abs['group_2020'] == 1])\n",
    "print(gene_pres_abs.groupby('group_2020')['Location'].value_counts())"
   ]
  },
  {
   "cell_type": "code",
   "execution_count": 562,
   "id": "6c59bfa4",
   "metadata": {},
   "outputs": [
    {
     "data": {
      "text/html": [
       "<div>\n",
       "<style scoped>\n",
       "    .dataframe tbody tr th:only-of-type {\n",
       "        vertical-align: middle;\n",
       "    }\n",
       "\n",
       "    .dataframe tbody tr th {\n",
       "        vertical-align: top;\n",
       "    }\n",
       "\n",
       "    .dataframe thead th {\n",
       "        text-align: right;\n",
       "    }\n",
       "</style>\n",
       "<table border=\"1\" class=\"dataframe\">\n",
       "  <thead>\n",
       "    <tr style=\"text-align: right;\">\n",
       "      <th>Gene</th>\n",
       "      <th>group_2020</th>\n",
       "      <th>Location</th>\n",
       "      <th>emm-type</th>\n",
       "      <th>Poppunk Cluster</th>\n",
       "    </tr>\n",
       "  </thead>\n",
       "  <tbody>\n",
       "    <tr>\n",
       "      <th>23SG_024M0143_S4</th>\n",
       "      <td>1</td>\n",
       "      <td>Invasive</td>\n",
       "      <td>EMM12.7</td>\n",
       "      <td>1</td>\n",
       "    </tr>\n",
       "    <tr>\n",
       "      <th>23SH_077M0027_S17</th>\n",
       "      <td>1</td>\n",
       "      <td>Invasive</td>\n",
       "      <td>EMM6.4</td>\n",
       "      <td>8</td>\n",
       "    </tr>\n",
       "    <tr>\n",
       "      <th>23SH_103M0533_S19</th>\n",
       "      <td>1</td>\n",
       "      <td>Invasive</td>\n",
       "      <td>EMM12.7</td>\n",
       "      <td>1</td>\n",
       "    </tr>\n",
       "    <tr>\n",
       "      <th>23SH_113M0067_S13</th>\n",
       "      <td>1</td>\n",
       "      <td>Invasive</td>\n",
       "      <td>EMM80.0</td>\n",
       "      <td>159</td>\n",
       "    </tr>\n",
       "  </tbody>\n",
       "</table>\n",
       "</div>"
      ],
      "text/plain": [
       "Gene               group_2020  Location emm-type Poppunk Cluster\n",
       "23SG_024M0143_S4            1  Invasive  EMM12.7               1\n",
       "23SH_077M0027_S17           1  Invasive   EMM6.4               8\n",
       "23SH_103M0533_S19           1  Invasive  EMM12.7               1\n",
       "23SH_113M0067_S13           1  Invasive  EMM80.0             159"
      ]
     },
     "execution_count": 562,
     "metadata": {},
     "output_type": "execute_result"
    }
   ],
   "source": [
    "gene_pres_abs[gene_pres_abs['group_2020'] == 1]"
   ]
  },
  {
   "cell_type": "code",
   "execution_count": 563,
   "id": "dd59ba05",
   "metadata": {},
   "outputs": [],
   "source": [
    "pangenome_struct = pd.read_csv('pangenome/bactopia-runs/SHL_igas-20240616-024658/panaroo/struct_presence_absence.Rtab', sep='\\t')\n",
    "struct_pres_abs = pd.read_csv('pyseer/gene_presence_absence/struct_presence_absence_patterns_filtered.txt', sep='\\t')\n",
    "struct_pres_abs = pangenome_struct[pangenome_struct['Gene'].isin(struct_pres_abs['variant'])]\n",
    "\n",
    "struct_pres_abs = struct_pres_abs.T\n",
    "struct_pres_abs.columns = struct_pres_abs.loc['Gene']\n",
    "struct_pres_abs = struct_pres_abs.drop('Gene')\n",
    "struct_pres_abs['Location'] = metadata.loc[struct_pres_abs.index, 'Location']\n",
    "struct_pres_abs['emm-type'] = metadata.loc[struct_pres_abs.index, 'emm-type']\n",
    "struct_pres_abs['Poppunk Cluster'] = metadata.loc[struct_pres_abs.index, 'Poppunk Cluster']"
   ]
  },
  {
   "cell_type": "code",
   "execution_count": 589,
   "id": "25975eff",
   "metadata": {},
   "outputs": [
    {
     "data": {
      "text/plain": [
       "Location      Poppunk Cluster\n",
       "Invasive      1                   5\n",
       "              10                  1\n",
       "              37                  1\n",
       "Non-Invasive  1                  80\n",
       "              10                  7\n",
       "              17                  2\n",
       "              31                  1\n",
       "              6                   1\n",
       "Name: Poppunk Cluster, dtype: int64"
      ]
     },
     "execution_count": 589,
     "metadata": {},
     "output_type": "execute_result"
    }
   ],
   "source": [
    "group2.groupby('Location')['Poppunk Cluster'].value_counts()"
   ]
  },
  {
   "cell_type": "code",
   "execution_count": 588,
   "id": "c8a515ec",
   "metadata": {},
   "outputs": [
    {
     "data": {
      "text/plain": [
       "Non-Invasive    91\n",
       "Invasive         7\n",
       "Name: Location, dtype: int64"
      ]
     },
     "execution_count": 588,
     "metadata": {},
     "output_type": "execute_result"
    }
   ],
   "source": [
    "group2['Location'].value_counts()"
   ]
  },
  {
   "cell_type": "code",
   "execution_count": 565,
   "id": "728e020c",
   "metadata": {},
   "outputs": [
    {
     "data": {
      "text/plain": [
       "EMM1     5\n",
       "EMM12    5\n",
       "EMM49    2\n",
       "EMM92    1\n",
       "EMM81    1\n",
       "EMM28    1\n",
       "EMM53    1\n",
       "EMM89    1\n",
       "EMM77    1\n",
       "EMM80    1\n",
       "Name: emm-type, dtype: int64"
      ]
     },
     "execution_count": 565,
     "metadata": {},
     "output_type": "execute_result"
    }
   ],
   "source": [
    "group1 = struct_pres_abs.drop('group_664-group_1097-group_1161', axis=1).query('`group_148-group_664-group_1097` == 1')\n",
    "group1.query(\"`Location` == 'Invasive'\")['emm-type'].str.split('.').str.get(0).value_counts()"
   ]
  },
  {
   "cell_type": "code",
   "execution_count": 566,
   "id": "673d2eac",
   "metadata": {},
   "outputs": [
    {
     "data": {
      "text/plain": [
       "EMM12    80\n",
       "EMM28     7\n",
       "EMM1      7\n",
       "EMM89     5\n",
       "EMM58     2\n",
       "EMM81     2\n",
       "EMM9      1\n",
       "EMM11     1\n",
       "EMM75     1\n",
       "Name: emm-type, dtype: int64"
      ]
     },
     "execution_count": 566,
     "metadata": {},
     "output_type": "execute_result"
    }
   ],
   "source": [
    "group1 = struct_pres_abs.drop('group_664-group_1097-group_1161', axis=1).query('`group_148-group_664-group_1097` == 1')\n",
    "group1.query(\"`Location` == 'Non-Invasive'\")['emm-type'].str.split('.').str.get(0).value_counts()"
   ]
  },
  {
   "cell_type": "code",
   "execution_count": 567,
   "id": "3a395aa9",
   "metadata": {},
   "outputs": [
    {
     "data": {
      "text/plain": [
       "EMM12    5\n",
       "EMM92    1\n",
       "EMM28    1\n",
       "Name: emm-type, dtype: int64"
      ]
     },
     "execution_count": 567,
     "metadata": {},
     "output_type": "execute_result"
    }
   ],
   "source": [
    "group2 = struct_pres_abs.drop('group_148-group_664-group_1097', axis=1).query('`group_664-group_1097-group_1161` == 1')\n",
    "group2.query(\"`Location` == 'Invasive'\")['emm-type'].str.split('.').str.get(0).value_counts()"
   ]
  },
  {
   "cell_type": "code",
   "execution_count": 425,
   "id": "a02c074f",
   "metadata": {},
   "outputs": [
    {
     "data": {
      "text/plain": [
       "EMM12    80\n",
       "EMM28     7\n",
       "EMM58     2\n",
       "EMM11     1\n",
       "EMM75     1\n",
       "Name: emm-type, dtype: int64"
      ]
     },
     "execution_count": 425,
     "metadata": {},
     "output_type": "execute_result"
    }
   ],
   "source": [
    "group2 = struct_pres_abs.drop('group_148-group_664-group_1097', axis=1).query('`group_664-group_1097-group_1161` == 1')\n",
    "group2.query(\"`Location` == 'Non-Invasive'\")['emm-type'].str.split('.').str.get(0).value_counts()"
   ]
  },
  {
   "cell_type": "code",
   "execution_count": 426,
   "id": "0662a357",
   "metadata": {},
   "outputs": [
    {
     "name": "stdout",
     "output_type": "stream",
     "text": [
      "Non-Invasive    106\n",
      "Invasive         19\n",
      "Name: Location, dtype: int64\n",
      "Non-Invasive    91\n",
      "Invasive         7\n",
      "Name: Location, dtype: int64\n"
     ]
    }
   ],
   "source": [
    "print(struct_pres_abs.drop('group_664-group_1097-group_1161', axis=1).query('`group_148-group_664-group_1097` == 1')['Location'].value_counts())\n",
    "print(struct_pres_abs.drop('group_148-group_664-group_1097', axis=1).query('`group_664-group_1097-group_1161` == 1')['Location'].value_counts())\n",
    "\n",
    "#print(struct_pres_abs[struct_pres_abs['group_148-group_664-group_1097'] == 1].drop('g'))"
   ]
  },
  {
   "cell_type": "code",
   "execution_count": 428,
   "id": "90e16c80",
   "metadata": {},
   "outputs": [
    {
     "name": "stdout",
     "output_type": "stream",
     "text": [
      "group_148-group_664-group_1097  Location    \n",
      "0                               Invasive         19\n",
      "                                Non-Invasive     11\n",
      "1                               Non-Invasive    106\n",
      "                                Invasive         19\n",
      "Name: Location, dtype: int64\n",
      "group_148-group_664-group_1097  emm-type\n",
      "0                               EMM49.0     7\n",
      "                                EMM12.37    2\n",
      "                                EMM83.1     2\n",
      "                                EMM12.0     1\n",
      "                                EMM12.7     1\n",
      "                                EMM12.8     1\n",
      "                                EMM22.0     1\n",
      "                                EMM25.4     1\n",
      "                                EMM6.4      1\n",
      "                                EMM66.0     1\n",
      "                                EMM82.0     1\n",
      "1                               EMM1.0      5\n",
      "                                EMM12.0     3\n",
      "                                EMM49.0     2\n",
      "                                EMM12.7     1\n",
      "                                EMM12.8     1\n",
      "                                EMM28.0     1\n",
      "                                EMM53.0~    1\n",
      "                                EMM77.0     1\n",
      "                                EMM80.0     1\n",
      "                                EMM81.0     1\n",
      "                                EMM89.0     1\n",
      "                                EMM92.0     1\n",
      "Name: emm-type, dtype: int64\n"
     ]
    }
   ],
   "source": [
    "print(struct_pres_abs.drop('group_664-group_1097-group_1161', axis=1).groupby('group_148-group_664-group_1097')['Location'].value_counts())\n",
    "print(struct_pres_abs.drop('group_664-group_1097-group_1161', axis=1).query('Location == \"Invasive\"').groupby('group_148-group_664-group_1097')['emm-type'].value_counts())"
   ]
  },
  {
   "cell_type": "code",
   "execution_count": 249,
   "id": "0fee50d5",
   "metadata": {},
   "outputs": [],
   "source": [
    "pangenome_bin = pangenome.drop(['Non-unique Gene name', 'Annotation'], axis=1).set_index(\"Gene\").notnull().astype('int').fillna(0).T"
   ]
  },
  {
   "cell_type": "code",
   "execution_count": 253,
   "id": "fa79ef36",
   "metadata": {},
   "outputs": [
    {
     "data": {
      "text/html": [
       "<div>\n",
       "<style scoped>\n",
       "    .dataframe tbody tr th:only-of-type {\n",
       "        vertical-align: middle;\n",
       "    }\n",
       "\n",
       "    .dataframe tbody tr th {\n",
       "        vertical-align: top;\n",
       "    }\n",
       "\n",
       "    .dataframe thead th {\n",
       "        text-align: right;\n",
       "    }\n",
       "</style>\n",
       "<table border=\"1\" class=\"dataframe\">\n",
       "  <thead>\n",
       "    <tr style=\"text-align: right;\">\n",
       "      <th>Gene</th>\n",
       "      <th>rpmJ</th>\n",
       "      <th>group_2190</th>\n",
       "      <th>rpmH</th>\n",
       "      <th>rpmG3</th>\n",
       "      <th>group_2144</th>\n",
       "      <th>group_2141</th>\n",
       "      <th>group_2137</th>\n",
       "      <th>group_2120</th>\n",
       "      <th>group_2111</th>\n",
       "      <th>rpmD</th>\n",
       "      <th>...</th>\n",
       "      <th>cyaB</th>\n",
       "      <th>group_32</th>\n",
       "      <th>group_23</th>\n",
       "      <th>group_18</th>\n",
       "      <th>group_12</th>\n",
       "      <th>group_9</th>\n",
       "      <th>group_5</th>\n",
       "      <th>group_1</th>\n",
       "      <th>group_0</th>\n",
       "      <th>Location</th>\n",
       "    </tr>\n",
       "  </thead>\n",
       "  <tbody>\n",
       "    <tr>\n",
       "      <th>23SB_106M0036_S15</th>\n",
       "      <td>1</td>\n",
       "      <td>1</td>\n",
       "      <td>1</td>\n",
       "      <td>1</td>\n",
       "      <td>1</td>\n",
       "      <td>1</td>\n",
       "      <td>1</td>\n",
       "      <td>1</td>\n",
       "      <td>1</td>\n",
       "      <td>1</td>\n",
       "      <td>...</td>\n",
       "      <td>0</td>\n",
       "      <td>0</td>\n",
       "      <td>0</td>\n",
       "      <td>0</td>\n",
       "      <td>0</td>\n",
       "      <td>0</td>\n",
       "      <td>0</td>\n",
       "      <td>0</td>\n",
       "      <td>0</td>\n",
       "      <td>Invasive</td>\n",
       "    </tr>\n",
       "    <tr>\n",
       "      <th>23SB_143M0036_S5</th>\n",
       "      <td>1</td>\n",
       "      <td>1</td>\n",
       "      <td>1</td>\n",
       "      <td>1</td>\n",
       "      <td>1</td>\n",
       "      <td>1</td>\n",
       "      <td>1</td>\n",
       "      <td>1</td>\n",
       "      <td>1</td>\n",
       "      <td>1</td>\n",
       "      <td>...</td>\n",
       "      <td>0</td>\n",
       "      <td>0</td>\n",
       "      <td>0</td>\n",
       "      <td>0</td>\n",
       "      <td>0</td>\n",
       "      <td>0</td>\n",
       "      <td>0</td>\n",
       "      <td>0</td>\n",
       "      <td>0</td>\n",
       "      <td>Invasive</td>\n",
       "    </tr>\n",
       "    <tr>\n",
       "      <th>23SC_014M0062_S3</th>\n",
       "      <td>1</td>\n",
       "      <td>1</td>\n",
       "      <td>1</td>\n",
       "      <td>1</td>\n",
       "      <td>1</td>\n",
       "      <td>1</td>\n",
       "      <td>1</td>\n",
       "      <td>1</td>\n",
       "      <td>1</td>\n",
       "      <td>1</td>\n",
       "      <td>...</td>\n",
       "      <td>0</td>\n",
       "      <td>0</td>\n",
       "      <td>0</td>\n",
       "      <td>0</td>\n",
       "      <td>0</td>\n",
       "      <td>0</td>\n",
       "      <td>0</td>\n",
       "      <td>0</td>\n",
       "      <td>0</td>\n",
       "      <td>Invasive</td>\n",
       "    </tr>\n",
       "    <tr>\n",
       "      <th>23SC_035M0015_S9</th>\n",
       "      <td>1</td>\n",
       "      <td>1</td>\n",
       "      <td>1</td>\n",
       "      <td>1</td>\n",
       "      <td>1</td>\n",
       "      <td>1</td>\n",
       "      <td>1</td>\n",
       "      <td>1</td>\n",
       "      <td>1</td>\n",
       "      <td>1</td>\n",
       "      <td>...</td>\n",
       "      <td>0</td>\n",
       "      <td>0</td>\n",
       "      <td>0</td>\n",
       "      <td>0</td>\n",
       "      <td>0</td>\n",
       "      <td>0</td>\n",
       "      <td>0</td>\n",
       "      <td>0</td>\n",
       "      <td>0</td>\n",
       "      <td>Invasive</td>\n",
       "    </tr>\n",
       "    <tr>\n",
       "      <th>23SC_083M0072_S18</th>\n",
       "      <td>1</td>\n",
       "      <td>1</td>\n",
       "      <td>1</td>\n",
       "      <td>1</td>\n",
       "      <td>1</td>\n",
       "      <td>1</td>\n",
       "      <td>1</td>\n",
       "      <td>1</td>\n",
       "      <td>1</td>\n",
       "      <td>1</td>\n",
       "      <td>...</td>\n",
       "      <td>0</td>\n",
       "      <td>0</td>\n",
       "      <td>0</td>\n",
       "      <td>0</td>\n",
       "      <td>0</td>\n",
       "      <td>0</td>\n",
       "      <td>0</td>\n",
       "      <td>0</td>\n",
       "      <td>0</td>\n",
       "      <td>Invasive</td>\n",
       "    </tr>\n",
       "    <tr>\n",
       "      <th>...</th>\n",
       "      <td>...</td>\n",
       "      <td>...</td>\n",
       "      <td>...</td>\n",
       "      <td>...</td>\n",
       "      <td>...</td>\n",
       "      <td>...</td>\n",
       "      <td>...</td>\n",
       "      <td>...</td>\n",
       "      <td>...</td>\n",
       "      <td>...</td>\n",
       "      <td>...</td>\n",
       "      <td>...</td>\n",
       "      <td>...</td>\n",
       "      <td>...</td>\n",
       "      <td>...</td>\n",
       "      <td>...</td>\n",
       "      <td>...</td>\n",
       "      <td>...</td>\n",
       "      <td>...</td>\n",
       "      <td>...</td>\n",
       "      <td>...</td>\n",
       "    </tr>\n",
       "    <tr>\n",
       "      <th>R93_S29</th>\n",
       "      <td>1</td>\n",
       "      <td>1</td>\n",
       "      <td>1</td>\n",
       "      <td>1</td>\n",
       "      <td>1</td>\n",
       "      <td>1</td>\n",
       "      <td>1</td>\n",
       "      <td>1</td>\n",
       "      <td>1</td>\n",
       "      <td>1</td>\n",
       "      <td>...</td>\n",
       "      <td>0</td>\n",
       "      <td>0</td>\n",
       "      <td>0</td>\n",
       "      <td>0</td>\n",
       "      <td>0</td>\n",
       "      <td>0</td>\n",
       "      <td>0</td>\n",
       "      <td>0</td>\n",
       "      <td>0</td>\n",
       "      <td>Non-Invasive</td>\n",
       "    </tr>\n",
       "    <tr>\n",
       "      <th>R94_S30</th>\n",
       "      <td>1</td>\n",
       "      <td>1</td>\n",
       "      <td>1</td>\n",
       "      <td>1</td>\n",
       "      <td>1</td>\n",
       "      <td>1</td>\n",
       "      <td>1</td>\n",
       "      <td>1</td>\n",
       "      <td>1</td>\n",
       "      <td>1</td>\n",
       "      <td>...</td>\n",
       "      <td>0</td>\n",
       "      <td>0</td>\n",
       "      <td>0</td>\n",
       "      <td>0</td>\n",
       "      <td>0</td>\n",
       "      <td>0</td>\n",
       "      <td>0</td>\n",
       "      <td>0</td>\n",
       "      <td>0</td>\n",
       "      <td>Non-Invasive</td>\n",
       "    </tr>\n",
       "    <tr>\n",
       "      <th>R95_S31</th>\n",
       "      <td>1</td>\n",
       "      <td>1</td>\n",
       "      <td>1</td>\n",
       "      <td>1</td>\n",
       "      <td>1</td>\n",
       "      <td>1</td>\n",
       "      <td>1</td>\n",
       "      <td>1</td>\n",
       "      <td>1</td>\n",
       "      <td>1</td>\n",
       "      <td>...</td>\n",
       "      <td>0</td>\n",
       "      <td>0</td>\n",
       "      <td>0</td>\n",
       "      <td>0</td>\n",
       "      <td>0</td>\n",
       "      <td>0</td>\n",
       "      <td>0</td>\n",
       "      <td>0</td>\n",
       "      <td>0</td>\n",
       "      <td>Non-Invasive</td>\n",
       "    </tr>\n",
       "    <tr>\n",
       "      <th>R96_S32</th>\n",
       "      <td>1</td>\n",
       "      <td>1</td>\n",
       "      <td>1</td>\n",
       "      <td>1</td>\n",
       "      <td>1</td>\n",
       "      <td>1</td>\n",
       "      <td>1</td>\n",
       "      <td>1</td>\n",
       "      <td>1</td>\n",
       "      <td>1</td>\n",
       "      <td>...</td>\n",
       "      <td>0</td>\n",
       "      <td>0</td>\n",
       "      <td>0</td>\n",
       "      <td>0</td>\n",
       "      <td>0</td>\n",
       "      <td>0</td>\n",
       "      <td>0</td>\n",
       "      <td>0</td>\n",
       "      <td>0</td>\n",
       "      <td>Non-Invasive</td>\n",
       "    </tr>\n",
       "    <tr>\n",
       "      <th>R98_S33</th>\n",
       "      <td>1</td>\n",
       "      <td>1</td>\n",
       "      <td>1</td>\n",
       "      <td>1</td>\n",
       "      <td>1</td>\n",
       "      <td>1</td>\n",
       "      <td>1</td>\n",
       "      <td>1</td>\n",
       "      <td>1</td>\n",
       "      <td>1</td>\n",
       "      <td>...</td>\n",
       "      <td>0</td>\n",
       "      <td>0</td>\n",
       "      <td>0</td>\n",
       "      <td>0</td>\n",
       "      <td>0</td>\n",
       "      <td>0</td>\n",
       "      <td>0</td>\n",
       "      <td>0</td>\n",
       "      <td>0</td>\n",
       "      <td>Non-Invasive</td>\n",
       "    </tr>\n",
       "  </tbody>\n",
       "</table>\n",
       "<p>155 rows × 3064 columns</p>\n",
       "</div>"
      ],
      "text/plain": [
       "Gene               rpmJ  group_2190  rpmH  rpmG3  group_2144  group_2141  \\\n",
       "23SB_106M0036_S15     1           1     1      1           1           1   \n",
       "23SB_143M0036_S5      1           1     1      1           1           1   \n",
       "23SC_014M0062_S3      1           1     1      1           1           1   \n",
       "23SC_035M0015_S9      1           1     1      1           1           1   \n",
       "23SC_083M0072_S18     1           1     1      1           1           1   \n",
       "...                 ...         ...   ...    ...         ...         ...   \n",
       "R93_S29               1           1     1      1           1           1   \n",
       "R94_S30               1           1     1      1           1           1   \n",
       "R95_S31               1           1     1      1           1           1   \n",
       "R96_S32               1           1     1      1           1           1   \n",
       "R98_S33               1           1     1      1           1           1   \n",
       "\n",
       "Gene               group_2137  group_2120  group_2111  rpmD  ...  cyaB  \\\n",
       "23SB_106M0036_S15           1           1           1     1  ...     0   \n",
       "23SB_143M0036_S5            1           1           1     1  ...     0   \n",
       "23SC_014M0062_S3            1           1           1     1  ...     0   \n",
       "23SC_035M0015_S9            1           1           1     1  ...     0   \n",
       "23SC_083M0072_S18           1           1           1     1  ...     0   \n",
       "...                       ...         ...         ...   ...  ...   ...   \n",
       "R93_S29                     1           1           1     1  ...     0   \n",
       "R94_S30                     1           1           1     1  ...     0   \n",
       "R95_S31                     1           1           1     1  ...     0   \n",
       "R96_S32                     1           1           1     1  ...     0   \n",
       "R98_S33                     1           1           1     1  ...     0   \n",
       "\n",
       "Gene               group_32  group_23  group_18  group_12  group_9  group_5  \\\n",
       "23SB_106M0036_S15         0         0         0         0        0        0   \n",
       "23SB_143M0036_S5          0         0         0         0        0        0   \n",
       "23SC_014M0062_S3          0         0         0         0        0        0   \n",
       "23SC_035M0015_S9          0         0         0         0        0        0   \n",
       "23SC_083M0072_S18         0         0         0         0        0        0   \n",
       "...                     ...       ...       ...       ...      ...      ...   \n",
       "R93_S29                   0         0         0         0        0        0   \n",
       "R94_S30                   0         0         0         0        0        0   \n",
       "R95_S31                   0         0         0         0        0        0   \n",
       "R96_S32                   0         0         0         0        0        0   \n",
       "R98_S33                   0         0         0         0        0        0   \n",
       "\n",
       "Gene               group_1  group_0      Location  \n",
       "23SB_106M0036_S15        0        0      Invasive  \n",
       "23SB_143M0036_S5         0        0      Invasive  \n",
       "23SC_014M0062_S3         0        0      Invasive  \n",
       "23SC_035M0015_S9         0        0      Invasive  \n",
       "23SC_083M0072_S18        0        0      Invasive  \n",
       "...                    ...      ...           ...  \n",
       "R93_S29                  0        0  Non-Invasive  \n",
       "R94_S30                  0        0  Non-Invasive  \n",
       "R95_S31                  0        0  Non-Invasive  \n",
       "R96_S32                  0        0  Non-Invasive  \n",
       "R98_S33                  0        0  Non-Invasive  \n",
       "\n",
       "[155 rows x 3064 columns]"
      ]
     },
     "execution_count": 253,
     "metadata": {},
     "output_type": "execute_result"
    }
   ],
   "source": [
    "pangenome_bin['Location'] = metadata.loc[pangenome_bin.index, 'Location']\n",
    "pangenome_bin"
   ]
  },
  {
   "cell_type": "markdown",
   "id": "78c8ee49",
   "metadata": {},
   "source": [
    "## Data in Manuscript\n",
    "### Abstract\n",
    "Number of genomes"
   ]
  },
  {
   "cell_type": "code",
   "execution_count": 307,
   "id": "b9499638",
   "metadata": {},
   "outputs": [
    {
     "data": {
      "text/plain": [
       "155"
      ]
     },
     "execution_count": 307,
     "metadata": {},
     "output_type": "execute_result"
    }
   ],
   "source": [
    "metadata.shape[0]"
   ]
  },
  {
   "cell_type": "markdown",
   "id": "d2ef3a29",
   "metadata": {},
   "source": [
    "Number of invasive and non-invasive genomes"
   ]
  },
  {
   "cell_type": "code",
   "execution_count": 308,
   "id": "dfc9f862",
   "metadata": {},
   "outputs": [
    {
     "data": {
      "text/plain": [
       "Non-Invasive    117\n",
       "Invasive         38\n",
       "Name: Location, dtype: int64"
      ]
     },
     "execution_count": 308,
     "metadata": {},
     "output_type": "execute_result"
    }
   ],
   "source": [
    "metadata['Location'].value_counts()"
   ]
  },
  {
   "cell_type": "markdown",
   "id": "3604f91e",
   "metadata": {},
   "source": [
    "Top-level EMM% for non-invasive"
   ]
  },
  {
   "cell_type": "code",
   "execution_count": 309,
   "id": "c09b6d6b",
   "metadata": {},
   "outputs": [
    {
     "data": {
      "text/plain": [
       "EMM12    70.085470\n",
       "EMM28     5.982906\n",
       "EMM1      5.982906\n",
       "EMM89     4.273504\n",
       "EMM2      2.564103\n",
       "EMM22     1.709402\n",
       "EMM58     1.709402\n",
       "EMM81     1.709402\n",
       "EMM82     0.854701\n",
       "EMM4      0.854701\n",
       "EMM87     0.854701\n",
       "EMM9      0.854701\n",
       "EMM11     0.854701\n",
       "EMM77     0.854701\n",
       "EMM75     0.854701\n",
       "Name: emm-type, dtype: float64"
      ]
     },
     "execution_count": 309,
     "metadata": {},
     "output_type": "execute_result"
    }
   ],
   "source": [
    "metadata.loc[metadata['Location'] == 'Non-Invasive', 'emm-type'].str.split('.').str.get(0).value_counts() / metadata['Location'].value_counts().loc['Non-Invasive'] * 100"
   ]
  },
  {
   "cell_type": "markdown",
   "id": "78c52479",
   "metadata": {},
   "source": [
    "Top-level EMM% for invasive"
   ]
  },
  {
   "cell_type": "code",
   "execution_count": 310,
   "id": "1b2b9247",
   "metadata": {},
   "outputs": [
    {
     "data": {
      "text/plain": [
       "EMM12    26.315789\n",
       "EMM49    23.684211\n",
       "EMM1     13.157895\n",
       "EMM83     5.263158\n",
       "EMM66     2.631579\n",
       "EMM25     2.631579\n",
       "EMM22     2.631579\n",
       "EMM92     2.631579\n",
       "EMM81     2.631579\n",
       "EMM28     2.631579\n",
       "EMM82     2.631579\n",
       "EMM53     2.631579\n",
       "EMM89     2.631579\n",
       "EMM6      2.631579\n",
       "EMM77     2.631579\n",
       "EMM80     2.631579\n",
       "Name: emm-type, dtype: float64"
      ]
     },
     "execution_count": 310,
     "metadata": {},
     "output_type": "execute_result"
    }
   ],
   "source": [
    "metadata.loc[metadata['Location'] == 'Invasive', 'emm-type'].str.split('.').str.get(0).value_counts() / metadata['Location'].value_counts().loc['Invasive'] * 100"
   ]
  },
  {
   "cell_type": "markdown",
   "id": "67d2859a",
   "metadata": {},
   "source": [
    "% of EMM1.0 isolates with M1UK SNP set"
   ]
  },
  {
   "cell_type": "code",
   "execution_count": 311,
   "id": "48e3b160",
   "metadata": {},
   "outputs": [
    {
     "data": {
      "text/plain": [
       "27    58.333333\n",
       "0     41.666667\n",
       "Name: M1UK SNPs Detected (X/27), dtype: float64"
      ]
     },
     "execution_count": 311,
     "metadata": {},
     "output_type": "execute_result"
    }
   ],
   "source": [
    "total = metadata.loc[(metadata['emm-type'].str.startswith('EMM1.')), 'M1UK SNPs Detected (X/27)'].value_counts().sum()\n",
    "metadata.loc[(metadata['emm-type'].str.startswith('EMM1.')), 'M1UK SNPs Detected (X/27)'].value_counts() / total * 100"
   ]
  },
  {
   "cell_type": "markdown",
   "id": "d181a5c7",
   "metadata": {},
   "source": [
    "Invasive/non-invasive by CovS deletion"
   ]
  },
  {
   "cell_type": "code",
   "execution_count": 312,
   "id": "f38bbf6c",
   "metadata": {},
   "outputs": [
    {
     "data": {
      "text/plain": [
       "Invasive    7\n",
       "Name: Location, dtype: int64"
      ]
     },
     "execution_count": 312,
     "metadata": {},
     "output_type": "execute_result"
    }
   ],
   "source": [
    "metadata[metadata['CovS Deletion'] == 1]['Location'].value_counts()"
   ]
  },
  {
   "cell_type": "markdown",
   "id": "98623dd6",
   "metadata": {},
   "source": [
    "### Introduction"
   ]
  },
  {
   "cell_type": "code",
   "execution_count": 313,
   "id": "06161a6d",
   "metadata": {},
   "outputs": [
    {
     "data": {
      "text/plain": [
       "Non-Invasive    117\n",
       "Invasive         38\n",
       "Name: Location, dtype: int64"
      ]
     },
     "execution_count": 313,
     "metadata": {},
     "output_type": "execute_result"
    }
   ],
   "source": [
    "metadata['Location'].value_counts()"
   ]
  },
  {
   "cell_type": "code",
   "execution_count": 314,
   "id": "6fb2a095",
   "metadata": {},
   "outputs": [
    {
     "data": {
      "text/plain": [
       "155"
      ]
     },
     "execution_count": 314,
     "metadata": {},
     "output_type": "execute_result"
    }
   ],
   "source": [
    "metadata['Location'].value_counts().sum()"
   ]
  },
  {
   "cell_type": "code",
   "execution_count": 315,
   "id": "a6bc2bb5",
   "metadata": {},
   "outputs": [
    {
     "name": "stdout",
     "output_type": "stream",
     "text": [
      "2023-01-07 - 2023-05-31\n"
     ]
    }
   ],
   "source": [
    "print(f\"{metadata['Date Frozen'].min()} - {metadata['Date Frozen'].max()}\")"
   ]
  },
  {
   "cell_type": "code",
   "execution_count": 316,
   "id": "c01070e3",
   "metadata": {},
   "outputs": [
    {
     "name": "stdout",
     "output_type": "stream",
     "text": [
      "63\r\n"
     ]
    }
   ],
   "source": [
    "!grep -c \"^>\" virulence_adhesion_factors/virulence_factors.fas"
   ]
  }
 ],
 "metadata": {
  "kernelspec": {
   "display_name": "Python 3 (ipykernel)",
   "language": "python",
   "name": "python3"
  },
  "language_info": {
   "codemirror_mode": {
    "name": "ipython",
    "version": 3
   },
   "file_extension": ".py",
   "mimetype": "text/x-python",
   "name": "python",
   "nbconvert_exporter": "python",
   "pygments_lexer": "ipython3",
   "version": "3.10.6"
  }
 },
 "nbformat": 4,
 "nbformat_minor": 5
}
